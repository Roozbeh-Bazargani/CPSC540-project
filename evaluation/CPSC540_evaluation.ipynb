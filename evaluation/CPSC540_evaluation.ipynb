{
  "nbformat": 4,
  "nbformat_minor": 0,
  "metadata": {
    "colab": {
      "name": "CPSC540-evaluation.ipynb",
      "provenance": [],
      "collapsed_sections": [],
      "include_colab_link": true
    },
    "kernelspec": {
      "name": "python3",
      "display_name": "Python 3"
    },
    "language_info": {
      "name": "python"
    }
  },
  "cells": [
    {
      "cell_type": "markdown",
      "metadata": {
        "id": "view-in-github",
        "colab_type": "text"
      },
      "source": [
        "<a href=\"https://colab.research.google.com/github/Roozbeh-Bazargani/CPSC540-project/blob/main/evaluation/CPSC540_evaluation.ipynb\" target=\"_parent\"><img src=\"https://colab.research.google.com/assets/colab-badge.svg\" alt=\"Open In Colab\"/></a>"
      ]
    },
    {
      "cell_type": "code",
      "metadata": {
        "id": "yJrTw49kl86A"
      },
      "source": [
        "import numpy as np\n",
        "import matplotlib.pyplot as plt\n",
        "from sklearn.metrics import classification_report, roc_curve, auc, roc_auc_score\n",
        "from sklearn.preprocessing import label_binarize"
      ],
      "execution_count": 60,
      "outputs": []
    },
    {
      "cell_type": "code",
      "source": [
        "from google.colab import drive\n",
        "drive.mount('/content/drive')"
      ],
      "metadata": {
        "colab": {
          "base_uri": "https://localhost:8080/"
        },
        "id": "sNqeB_Prc78j",
        "outputId": "b67a630c-18ae-4a7a-c027-909fe8a80941"
      },
      "execution_count": 61,
      "outputs": [
        {
          "output_type": "stream",
          "name": "stdout",
          "text": [
            "Drive already mounted at /content/drive; to attempt to forcibly remount, call drive.mount(\"/content/drive\", force_remount=True).\n"
          ]
        }
      ]
    },
    {
      "cell_type": "code",
      "source": [
        "root_path = 'drive/MyDrive/test_results'\n",
        "test_labels = np.load(root_path+'/source_label_DANN_block1_balanced_without_aug.npy')\n",
        "pred_probs = np.load(root_path+'/source_pred_DANN_block1_balanced_without_aug.npy')"
      ],
      "metadata": {
        "id": "yDHi3KDCdcZO"
      },
      "execution_count": 62,
      "outputs": []
    },
    {
      "cell_type": "code",
      "source": [
        "print(test_labels.shape)\n",
        "# Binarize the output\n",
        "test_labels = label_binarize(test_labels, classes=[0, 1, 2, 3])\n",
        "print(test_labels.shape)\n",
        "test_labels[:20]"
      ],
      "metadata": {
        "colab": {
          "base_uri": "https://localhost:8080/"
        },
        "id": "yzU8dUBoeFTa",
        "outputId": "f45e0d9d-9a04-455a-cb12-babfac9cbbf9"
      },
      "execution_count": 63,
      "outputs": [
        {
          "output_type": "stream",
          "name": "stdout",
          "text": [
            "(797,)\n",
            "(797, 4)\n"
          ]
        },
        {
          "output_type": "execute_result",
          "data": {
            "text/plain": [
              "array([[0, 0, 1, 0],\n",
              "       [0, 0, 0, 1],\n",
              "       [0, 0, 1, 0],\n",
              "       [0, 1, 0, 0],\n",
              "       [0, 0, 1, 0],\n",
              "       [0, 1, 0, 0],\n",
              "       [0, 0, 1, 0],\n",
              "       [0, 1, 0, 0],\n",
              "       [0, 0, 1, 0],\n",
              "       [0, 1, 0, 0],\n",
              "       [0, 0, 1, 0],\n",
              "       [1, 0, 0, 0],\n",
              "       [0, 0, 1, 0],\n",
              "       [0, 0, 1, 0],\n",
              "       [0, 0, 0, 1],\n",
              "       [1, 0, 0, 0],\n",
              "       [0, 0, 0, 1],\n",
              "       [0, 0, 1, 0],\n",
              "       [0, 0, 1, 0],\n",
              "       [0, 0, 1, 0]])"
            ]
          },
          "metadata": {},
          "execution_count": 63
        }
      ]
    },
    {
      "cell_type": "code",
      "source": [
        "print(pred_probs.shape)\n",
        "pred_probs[:20]"
      ],
      "metadata": {
        "colab": {
          "base_uri": "https://localhost:8080/"
        },
        "id": "1xJ0IYIseIyP",
        "outputId": "904a7b2d-aceb-4f72-b6e0-7861f8873dd4"
      },
      "execution_count": 64,
      "outputs": [
        {
          "output_type": "stream",
          "name": "stdout",
          "text": [
            "(797, 4)\n"
          ]
        },
        {
          "output_type": "execute_result",
          "data": {
            "text/plain": [
              "array([[0.00605339, 0.0139083 , 0.83905596, 0.14098234],\n",
              "       [0.02761217, 0.1822711 , 0.2886563 , 0.50146043],\n",
              "       [0.01771932, 0.05047121, 0.5169884 , 0.41482112],\n",
              "       [0.05952263, 0.37801832, 0.15468737, 0.40777168],\n",
              "       [0.01810845, 0.22609556, 0.7344006 , 0.02139541],\n",
              "       [0.04467945, 0.25654304, 0.62726974, 0.07150771],\n",
              "       [0.04340188, 0.2454114 , 0.45170742, 0.25947934],\n",
              "       [0.01721721, 0.30606765, 0.6278995 , 0.04881566],\n",
              "       [0.01229911, 0.00891534, 0.97236484, 0.00642066],\n",
              "       [0.01112814, 0.23351893, 0.6229302 , 0.13242263],\n",
              "       [0.01518725, 0.02276124, 0.9469575 , 0.01509396],\n",
              "       [0.34971476, 0.36921182, 0.1846781 , 0.09639533],\n",
              "       [0.00786278, 0.00452402, 0.98354185, 0.00407138],\n",
              "       [0.22431833, 0.25203708, 0.43906608, 0.08457849],\n",
              "       [0.02466209, 0.12210217, 0.48604885, 0.36718702],\n",
              "       [0.09349825, 0.647682  , 0.17357922, 0.08524051],\n",
              "       [0.06492303, 0.06912061, 0.4116004 , 0.45435598],\n",
              "       [0.01473639, 0.23099579, 0.62664485, 0.12762302],\n",
              "       [0.00695198, 0.06396912, 0.9230715 , 0.0060074 ],\n",
              "       [0.0629229 , 0.37891233, 0.5495723 , 0.0085924 ]], dtype=float32)"
            ]
          },
          "metadata": {},
          "execution_count": 64
        }
      ]
    },
    {
      "cell_type": "code",
      "source": [
        "n_classes = len(test_labels[0])\n",
        "n_classes"
      ],
      "metadata": {
        "colab": {
          "base_uri": "https://localhost:8080/"
        },
        "id": "7jeK7oNQpfVj",
        "outputId": "bf63c5ff-0248-4741-c969-58ba4b780d44"
      },
      "execution_count": 65,
      "outputs": [
        {
          "output_type": "execute_result",
          "data": {
            "text/plain": [
              "4"
            ]
          },
          "metadata": {},
          "execution_count": 65
        }
      ]
    },
    {
      "cell_type": "markdown",
      "source": [
        "# Classification Report"
      ],
      "metadata": {
        "id": "j9bguCFEehnx"
      }
    },
    {
      "cell_type": "code",
      "source": [
        "print(\"ROC for 4 classes:\")\n",
        "\n",
        "pred_labels = np.array([np.argmax(d) for d in pred_probs])\n",
        "# Binarize the output\n",
        "pred_labels = label_binarize(pred_labels, classes=[0, 1, 2, 3])\n",
        "print(pred_labels.shape)\n",
        "pred_labels[:30]\n",
        "\n",
        "print(classification_report(test_labels, pred_labels))"
      ],
      "metadata": {
        "colab": {
          "base_uri": "https://localhost:8080/"
        },
        "id": "8pJCOdD4ecgf",
        "outputId": "6bbbdf99-adf4-4b9d-87d9-b51819a41224"
      },
      "execution_count": 66,
      "outputs": [
        {
          "output_type": "stream",
          "name": "stdout",
          "text": [
            "ROC for 4 classes:\n",
            "(797, 4)\n",
            "              precision    recall  f1-score   support\n",
            "\n",
            "           0       0.76      0.22      0.34        59\n",
            "           1       0.62      0.46      0.53       188\n",
            "           2       0.67      0.75      0.71       411\n",
            "           3       0.52      0.68      0.59       139\n",
            "\n",
            "   micro avg       0.63      0.63      0.63       797\n",
            "   macro avg       0.64      0.53      0.54       797\n",
            "weighted avg       0.64      0.63      0.62       797\n",
            " samples avg       0.63      0.63      0.63       797\n",
            "\n"
          ]
        }
      ]
    },
    {
      "cell_type": "markdown",
      "source": [
        "# ROC & AUC"
      ],
      "metadata": {
        "id": "3-aFnYNDkkc7"
      }
    },
    {
      "cell_type": "code",
      "source": [
        "roc_auc_score(test_labels, pred_probs, average ='macro', multi_class='ovr')"
      ],
      "metadata": {
        "colab": {
          "base_uri": "https://localhost:8080/"
        },
        "id": "2cCII79mp6yk",
        "outputId": "f381a831-282d-4847-f15c-1ba790a7b139"
      },
      "execution_count": 67,
      "outputs": [
        {
          "output_type": "execute_result",
          "data": {
            "text/plain": [
              "0.8448197654279194"
            ]
          },
          "metadata": {},
          "execution_count": 67
        }
      ]
    },
    {
      "cell_type": "code",
      "source": [
        "# Compute ROC curve and ROC area for each class\n",
        "fpr = dict()\n",
        "tpr = dict()\n",
        "roc_auc = dict()\n",
        "for i in range(n_classes):\n",
        "    fpr[i], tpr[i], _ = roc_curve(test_labels[:, i], pred_probs[:, i])\n",
        "    roc_auc[i] = auc(fpr[i], tpr[i])\n",
        "\n",
        "# Compute micro-average ROC curve and ROC area\n",
        "fpr[\"micro\"], tpr[\"micro\"], _ = roc_curve(test_labels.ravel(), pred_probs.ravel())\n",
        "roc_auc[\"micro\"] = auc(fpr[\"micro\"], tpr[\"micro\"])"
      ],
      "metadata": {
        "id": "pfjItoEA4oCR"
      },
      "execution_count": 68,
      "outputs": []
    },
    {
      "cell_type": "code",
      "source": [
        "# First aggregate all false positive rates\n",
        "all_fpr = np.unique(np.concatenate([fpr[i] for i in range(n_classes)]))\n",
        "\n",
        "# Then interpolate all ROC curves at this points\n",
        "mean_tpr = np.zeros_like(all_fpr)\n",
        "for i in range(n_classes):\n",
        "    mean_tpr += np.interp(all_fpr, fpr[i], tpr[i])\n",
        "\n",
        "# Finally average it and compute AUC\n",
        "mean_tpr /= n_classes\n",
        "\n",
        "fpr[\"macro\"] = all_fpr\n",
        "tpr[\"macro\"] = mean_tpr\n",
        "roc_auc[\"macro\"] = auc(fpr[\"macro\"], tpr[\"macro\"])\n",
        "\n",
        "# Plot all ROC curves\n",
        "lw = 2\n",
        "plt.figure()\n",
        "# plt.plot(\n",
        "#     fpr[\"micro\"],\n",
        "#     tpr[\"micro\"],\n",
        "#     label=\"micro-average ROC curve (area = {0:0.2f})\".format(roc_auc[\"micro\"]),\n",
        "#     color=\"deeppink\",\n",
        "#     linestyle=\":\",\n",
        "#     linewidth=4,\n",
        "# )\n",
        "\n",
        "plt.plot(\n",
        "    fpr[\"macro\"],\n",
        "    tpr[\"macro\"],\n",
        "    label=\"macro-average ROC curve (area = {0:0.2f})\".format(roc_auc[\"macro\"]),\n",
        "    color=\"navy\",\n",
        "    linestyle=\":\",\n",
        "    linewidth=4,\n",
        ")\n",
        "\n",
        "colors = np.array([\"purple\", \"darkorange\", \"cornflowerblue\", \"green\"])\n",
        "for i, color in zip(range(n_classes), colors):\n",
        "    plt.plot(\n",
        "        fpr[i],\n",
        "        tpr[i],\n",
        "        color=color,\n",
        "        lw=lw,\n",
        "        label=\"ROC curve of class {0} (area = {1:0.2f})\".format(i, roc_auc[i]),\n",
        "    )\n",
        "\n",
        "plt.plot([0, 1], [0, 1], \"k--\", lw=lw)\n",
        "plt.xlim([0.0, 1.0])\n",
        "plt.ylim([0.0, 1.05])\n",
        "plt.xlabel(\"False Positive Rate\")\n",
        "plt.ylabel(\"True Positive Rate\")\n",
        "plt.title(\"Receiver operating characteristic\")\n",
        "plt.legend(loc=\"lower right\")\n",
        "plt.show()"
      ],
      "metadata": {
        "colab": {
          "base_uri": "https://localhost:8080/",
          "height": 295
        },
        "id": "mmkf29K1s5nF",
        "outputId": "a4809f9c-60f5-496e-fe4b-1605cea643cb"
      },
      "execution_count": 69,
      "outputs": [
        {
          "output_type": "display_data",
          "data": {
            "text/plain": [
              "<Figure size 432x288 with 1 Axes>"
            ],
            "image/png": "[encoded data removed]"
          },
          "metadata": {
            "needs_background": "light"
          }
        }
      ]
    }
  ]
}