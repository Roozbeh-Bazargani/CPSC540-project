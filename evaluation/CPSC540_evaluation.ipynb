{
  "nbformat": 4,
  "nbformat_minor": 0,
  "metadata": {
    "colab": {
      "name": "CPSC540-evaluation.ipynb",
      "provenance": [],
      "collapsed_sections": [],
      "include_colab_link": true
    },
    "kernelspec": {
      "name": "python3",
      "display_name": "Python 3"
    },
    "language_info": {
      "name": "python"
    }
  },
  "cells": [
    {
      "cell_type": "markdown",
      "metadata": {
        "id": "view-in-github",
        "colab_type": "text"
      },
      "source": [
        "<a href=\"https://colab.research.google.com/github/Roozbeh-Bazargani/CPSC540-project/blob/main/evaluation/CPSC540_evaluation.ipynb\" target=\"_parent\"><img src=\"https://colab.research.google.com/assets/colab-badge.svg\" alt=\"Open In Colab\"/></a>"
      ]
    },
    {
      "cell_type": "code",
      "metadata": {
        "id": "yJrTw49kl86A"
      },
      "source": [
        "import numpy as np\n",
        "import matplotlib.pyplot as plt\n",
        "from sklearn.metrics import classification_report, roc_curve, auc, roc_auc_score"
      ],
      "execution_count": 1,
      "outputs": []
    },
    {
      "cell_type": "code",
      "source": [
        "from google.colab import drive\n",
        "drive.mount('/content/drive')"
      ],
      "metadata": {
        "colab": {
          "base_uri": "https://localhost:8080/"
        },
        "id": "sNqeB_Prc78j",
        "outputId": "abbae1d8-139b-48ec-972b-25831a7469d1"
      },
      "execution_count": 2,
      "outputs": [
        {
          "output_type": "stream",
          "name": "stdout",
          "text": [
            "Drive already mounted at /content/drive; to attempt to forcibly remount, call drive.mount(\"/content/drive\", force_remount=True).\n"
          ]
        }
      ]
    },
    {
      "cell_type": "code",
      "source": [
        "root_path = 'drive/MyDrive/test_results'\n",
        "test_labels = np.load(root_path+'/norm1ref_test_label_unbalanced_without_aug.npy')\n",
        "pred_probs = np.load(root_path+'/norm1ref_test_pred_unbalanced_without_aug.npy')"
      ],
      "metadata": {
        "id": "yDHi3KDCdcZO"
      },
      "execution_count": 3,
      "outputs": []
    },
    {
      "cell_type": "code",
      "source": [
        "print(test_labels.shape)\n",
        "test_labels[:20]"
      ],
      "metadata": {
        "colab": {
          "base_uri": "https://localhost:8080/"
        },
        "id": "yzU8dUBoeFTa",
        "outputId": "94a3329a-ba95-48a6-9b05-119b57363e0b"
      },
      "execution_count": 4,
      "outputs": [
        {
          "output_type": "stream",
          "name": "stdout",
          "text": [
            "(797,)\n"
          ]
        },
        {
          "output_type": "execute_result",
          "data": {
            "text/plain": [
              "array([2, 3, 2, 1, 2, 1, 2, 1, 2, 1, 2, 0, 2, 2, 3, 0, 3, 2, 2, 2])"
            ]
          },
          "metadata": {},
          "execution_count": 4
        }
      ]
    },
    {
      "cell_type": "code",
      "source": [
        "print(pred_probs.shape)\n",
        "pred_probs[:20]"
      ],
      "metadata": {
        "colab": {
          "base_uri": "https://localhost:8080/"
        },
        "id": "1xJ0IYIseIyP",
        "outputId": "f9deb295-cf5e-4eb0-d57d-85ec24f3ef4e"
      },
      "execution_count": 5,
      "outputs": [
        {
          "output_type": "stream",
          "name": "stdout",
          "text": [
            "(797, 4)\n"
          ]
        },
        {
          "output_type": "execute_result",
          "data": {
            "text/plain": [
              "array([[5.7869198e-07, 3.1766781e-04, 9.9932694e-01, 3.5488626e-04],\n",
              "       [2.4069479e-07, 8.3009142e-04, 9.7402602e-01, 2.5143648e-02],\n",
              "       [2.6849264e-04, 1.3204205e-03, 9.9021167e-01, 8.1993854e-03],\n",
              "       [9.6052332e-05, 1.1042291e-01, 8.8442683e-01, 5.0541982e-03],\n",
              "       [2.1130475e-07, 4.6785031e-02, 9.5321453e-01, 2.4224613e-07],\n",
              "       [1.6403008e-02, 8.8872945e-01, 9.4417684e-02, 4.4987118e-04],\n",
              "       [4.2737634e-07, 1.0390547e-03, 9.9895048e-01, 1.0011444e-05],\n",
              "       [9.6949461e-06, 1.8276058e-01, 8.1721950e-01, 1.0228847e-05],\n",
              "       [6.4674904e-11, 8.1624773e-07, 9.9999917e-01, 2.1314448e-09],\n",
              "       [6.1709152e-08, 1.1893232e-01, 8.8078862e-01, 2.7899083e-04],\n",
              "       [5.2066925e-03, 9.3388927e-01, 6.0903136e-02, 8.5598668e-07],\n",
              "       [9.9783903e-01, 3.4663593e-05, 1.8307274e-03, 2.9563357e-04],\n",
              "       [5.0146963e-07, 3.7443042e-05, 9.9995732e-01, 4.8158327e-06],\n",
              "       [2.8235411e-02, 1.4497847e-03, 9.6972936e-01, 5.8538828e-04],\n",
              "       [8.0210511e-06, 3.8515558e-03, 9.9575126e-01, 3.8906976e-04],\n",
              "       [8.5675412e-01, 9.5967256e-02, 4.7224004e-02, 5.4663560e-05],\n",
              "       [4.4727403e-05, 3.0719682e-05, 9.9955267e-01, 3.7184911e-04],\n",
              "       [2.3231321e-09, 3.2558790e-04, 9.9967444e-01, 1.9799081e-08],\n",
              "       [4.0808936e-05, 4.4186463e-04, 9.9916291e-01, 3.5450567e-04],\n",
              "       [3.6552610e-06, 8.9147873e-03, 9.9108148e-01, 1.0122601e-09]],\n",
              "      dtype=float32)"
            ]
          },
          "metadata": {},
          "execution_count": 5
        }
      ]
    },
    {
      "cell_type": "code",
      "source": [
        "pred_labels = np.array([np.argmax(d) for d in pred_probs])\n",
        "print(pred_labels.shape)\n",
        "pred_labels[:30]"
      ],
      "metadata": {
        "colab": {
          "base_uri": "https://localhost:8080/"
        },
        "id": "ADKh2C48is9H",
        "outputId": "e29cdd3e-1de3-4e3a-c134-03395d74cfd0"
      },
      "execution_count": 6,
      "outputs": [
        {
          "output_type": "stream",
          "name": "stdout",
          "text": [
            "(797,)\n"
          ]
        },
        {
          "output_type": "execute_result",
          "data": {
            "text/plain": [
              "array([2, 2, 2, 2, 2, 1, 2, 2, 2, 2, 1, 0, 2, 2, 2, 0, 2, 2, 2, 2, 3, 2,\n",
              "       3, 2, 1, 1, 2, 2, 2, 2])"
            ]
          },
          "metadata": {},
          "execution_count": 6
        }
      ]
    },
    {
      "cell_type": "code",
      "source": [
        "n_classes = len(set(test_labels))\n",
        "n_classes"
      ],
      "metadata": {
        "id": "7jeK7oNQpfVj",
        "outputId": "9d9dd2a3-e32f-404f-e6ca-21b725022855",
        "colab": {
          "base_uri": "https://localhost:8080/"
        }
      },
      "execution_count": 7,
      "outputs": [
        {
          "output_type": "execute_result",
          "data": {
            "text/plain": [
              "4"
            ]
          },
          "metadata": {},
          "execution_count": 7
        }
      ]
    },
    {
      "cell_type": "markdown",
      "source": [
        "# Classification Report"
      ],
      "metadata": {
        "id": "j9bguCFEehnx"
      }
    },
    {
      "cell_type": "code",
      "source": [
        "print(\"ROC for 4 classes:\")\n",
        "\n",
        "print(classification_report(test_labels, pred_labels))"
      ],
      "metadata": {
        "colab": {
          "base_uri": "https://localhost:8080/"
        },
        "id": "8pJCOdD4ecgf",
        "outputId": "69b0120c-a006-4fa7-b670-c6445872e0cd"
      },
      "execution_count": 8,
      "outputs": [
        {
          "output_type": "stream",
          "name": "stdout",
          "text": [
            "ROC for 4 classes:\n",
            "              precision    recall  f1-score   support\n",
            "\n",
            "           0       0.71      0.58      0.64        59\n",
            "           1       0.64      0.22      0.33       188\n",
            "           2       0.61      0.85      0.71       411\n",
            "           3       0.66      0.53      0.58       139\n",
            "\n",
            "    accuracy                           0.62       797\n",
            "   macro avg       0.65      0.54      0.56       797\n",
            "weighted avg       0.63      0.62      0.59       797\n",
            "\n"
          ]
        }
      ]
    },
    {
      "cell_type": "markdown",
      "source": [
        "# ROC & AUC"
      ],
      "metadata": {
        "id": "3-aFnYNDkkc7"
      }
    },
    {
      "cell_type": "code",
      "source": [
        "roc_auc_score(test_labels, pred_probs,average ='macro', multi_class='ovr')"
      ],
      "metadata": {
        "id": "2cCII79mp6yk",
        "outputId": "d8f5c56f-1813-4e19-cfcf-a5f69b733b7a",
        "colab": {
          "base_uri": "https://localhost:8080/"
        }
      },
      "execution_count": 9,
      "outputs": [
        {
          "output_type": "execute_result",
          "data": {
            "text/plain": [
              "0.7990286351447805"
            ]
          },
          "metadata": {},
          "execution_count": 9
        }
      ]
    },
    {
      "cell_type": "code",
      "source": [
        "fprs = []\n",
        "tprs = []\n",
        "roc_aucs = []\n",
        "\n",
        "for i in range(n_classes):\n",
        "  one_vs_all_test_labels = [int(l==i) for l in test_labels]\n",
        "  one_vs_all_pred_labels = [int(l==i) for l in pred_labels]\n",
        "  fpr, tpr, _ = roc_curve(one_vs_all_test_labels, one_vs_all_pred_labels )\n",
        "  roc_auc= auc(fpr, tpr)\n",
        "  fprs.append(fpr)\n",
        "  tprs.append(tpr)\n",
        "  roc_aucs.append(roc_auc)"
      ],
      "metadata": {
        "id": "pw_AcZuulID9"
      },
      "execution_count": 10,
      "outputs": []
    },
    {
      "cell_type": "code",
      "source": [
        "# lw = 2\n",
        "# colors = np.array([\"purple\", \"darkorange\", \"cornflowerblue\", \"green\"])\n",
        "# for i, color in zip(range(n_classes), colors):\n",
        "#   plt.plot(\n",
        "#       fprs[i],\n",
        "#       tprs[i],\n",
        "#       color=color,\n",
        "#       lw=lw,\n",
        "#       label=\"ROC curve of class {0} (area = {1:0.2f})\".format(i, roc_aucs[i]),\n",
        "#   )\n",
        "# plt.plot([0, 1], [0, 1], \"k--\", lw=lw)\n",
        "# plt.xlim([0.0, 1.0])\n",
        "# plt.ylim([0.0, 1.05])\n",
        "# plt.xlabel(\"False Positive Rate\")\n",
        "# plt.ylabel(\"True Positive Rate\")\n",
        "# plt.title(\"Some extension of Receiver operating characteristic to multiclass\")\n",
        "# plt.legend(loc=\"lower right\")\n",
        "# plt.show()"
      ],
      "metadata": {
        "id": "v8MOZKSRpW-s"
      },
      "execution_count": 11,
      "outputs": []
    },
    {
      "cell_type": "code",
      "source": [
        "fpr = {}\n",
        "tpr = {}\n",
        "roc_auc = {}\n",
        "\n",
        "for i in range(n_classes):\n",
        "  fpr[i] = fprs[i]\n",
        "  tpr[i] = tprs[i]\n",
        "  roc_auc[i] = roc_aucs[i]"
      ],
      "metadata": {
        "id": "9ylgHShswW53"
      },
      "execution_count": 12,
      "outputs": []
    },
    {
      "cell_type": "code",
      "source": [
        "# First aggregate all false positive rates\n",
        "all_fpr = np.unique(np.concatenate([fpr[i] for i in range(n_classes)]))\n",
        "\n",
        "# Then interpolate all ROC curves at this points\n",
        "mean_tpr = np.zeros_like(all_fpr)\n",
        "for i in range(n_classes):\n",
        "    mean_tpr += np.interp(all_fpr, fpr[i], tpr[i])\n",
        "\n",
        "# Finally average it and compute AUC\n",
        "mean_tpr /= n_classes\n",
        "\n",
        "fpr[\"macro\"] = all_fpr\n",
        "tpr[\"macro\"] = mean_tpr\n",
        "roc_auc[\"macro\"] = auc(fpr[\"macro\"], tpr[\"macro\"])\n",
        "\n",
        "# Plot all ROC curves\n",
        "plt.figure()\n",
        "lw = 2\n",
        "plt.plot(\n",
        "    fpr[\"macro\"],\n",
        "    tpr[\"macro\"],\n",
        "    label=\"macro-average ROC curve (area = {0:0.2f})\".format(roc_auc[\"macro\"]),\n",
        "    color=\"navy\",\n",
        "    linestyle=\":\",\n",
        "    linewidth=4,\n",
        ")\n",
        "\n",
        "colors = np.array([\"purple\", \"darkorange\", \"cornflowerblue\", \"green\"])\n",
        "for i, color in zip(range(n_classes), colors):\n",
        "    plt.plot(\n",
        "        fpr[i],\n",
        "        tpr[i],\n",
        "        color=color,\n",
        "        lw=lw,\n",
        "        label=\"ROC curve of class {0} (area = {1:0.2f})\".format(i, roc_auc[i]),\n",
        "    )\n",
        "\n",
        "plt.plot([0, 1], [0, 1], \"k--\", lw=lw)\n",
        "plt.xlim([0.0, 1.0])\n",
        "plt.ylim([0.0, 1.05])\n",
        "plt.xlabel(\"False Positive Rate\")\n",
        "plt.ylabel(\"True Positive Rate\")\n",
        "plt.title(\"Some extension of Receiver operating characteristic to multiclass\")\n",
        "plt.legend(loc=\"lower right\")\n",
        "plt.show()"
      ],
      "metadata": {
        "id": "mmkf29K1s5nF",
        "outputId": "5a7d3cda-67aa-41be-d50e-8a41ef88018d",
        "colab": {
          "base_uri": "https://localhost:8080/",
          "height": 295
        }
      },
      "execution_count": 14,
      "outputs": [
        {
          "output_type": "display_data",
          "data": {
            "text/plain": [
              "<Figure size 432x288 with 1 Axes>"
            ],
            "image/png": "[encoded data removed]"
          },
          "metadata": {
            "needs_background": "light"
          }
        }
      ]
    },
    {
      "cell_type": "code",
      "source": [
        "# ## plot AUC\n",
        "# fpr, tpr, _ = roc_curve(test_labels[1:], pred_labels[1:,1]   )\n",
        "\n",
        "# print(np.shape(fpr))\n",
        "# roc_auc= auc(fpr, tpr)\n",
        "# # print(fpr)\n",
        "# print('AUC' + str(roc_auc))\n",
        "# i = 0\n",
        "# fpr = fprs[i]\n",
        "# tpr = tprs[i]\n",
        "# roc_auc = roc_aucs[i]\n",
        "# plt.figure()\n",
        "# lw = 2\n",
        "# plt.plot(\n",
        "#     fpr,\n",
        "#     tpr,\n",
        "#     color=\"darkorange\",\n",
        "#     lw=lw,\n",
        "#     label=\"ROC curve (area = %0.2f)\" % roc_auc,\n",
        "# )\n",
        "# plt.plot([0, 1], [0, 1], color=\"navy\", lw=lw, linestyle=\"--\")\n",
        "# plt.xlim([0.0, 1.0])\n",
        "# plt.ylim([0.0, 1.0])\n",
        "# plt.xlabel(\"False Positive Rate\")\n",
        "# plt.ylabel(\"True Positive Rate\")\n",
        "# plt.title(\"Receiver operating characteristic \")\n",
        "# plt.legend(loc=\"lower right\")\n",
        "# plt.show()"
      ],
      "metadata": {
        "id": "9bpocoMjcxRx"
      },
      "execution_count": null,
      "outputs": []
    },
    {
      "cell_type": "code",
      "source": [
        ""
      ],
      "metadata": {
        "id": "LLXN_E3jmWC0"
      },
      "execution_count": null,
      "outputs": []
    }
  ]
}