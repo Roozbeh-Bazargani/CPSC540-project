{
  "nbformat": 4,
  "nbformat_minor": 0,
  "metadata": {
    "colab": {
      "name": "CPSC540-evaluation.ipynb",
      "provenance": [],
      "collapsed_sections": [],
      "include_colab_link": true
    },
    "kernelspec": {
      "name": "python3",
      "display_name": "Python 3"
    },
    "language_info": {
      "name": "python"
    }
  },
  "cells": [
    {
      "cell_type": "markdown",
      "metadata": {
        "id": "view-in-github",
        "colab_type": "text"
      },
      "source": [
        "<a href=\"https://colab.research.google.com/github/Roozbeh-Bazargani/CPSC540-project/blob/main/evaluation/CPSC540_evaluation.ipynb\" target=\"_parent\"><img src=\"https://colab.research.google.com/assets/colab-badge.svg\" alt=\"Open In Colab\"/></a>"
      ]
    },
    {
      "cell_type": "code",
      "metadata": {
        "id": "yJrTw49kl86A"
      },
      "source": [
        "import numpy as np\n",
        "import matplotlib.pyplot as plt\n",
        "from sklearn.metrics import classification_report, roc_curve, auc"
      ],
      "execution_count": 1,
      "outputs": []
    },
    {
      "cell_type": "code",
      "source": [
        "from google.colab import drive\n",
        "drive.mount('/content/drive')"
      ],
      "metadata": {
        "colab": {
          "base_uri": "https://localhost:8080/"
        },
        "id": "sNqeB_Prc78j",
        "outputId": "6f9b0186-7025-4816-a8cd-8a01c638f18f"
      },
      "execution_count": 2,
      "outputs": [
        {
          "output_type": "stream",
          "name": "stdout",
          "text": [
            "Drive already mounted at /content/drive; to attempt to forcibly remount, call drive.mount(\"/content/drive\", force_remount=True).\n"
          ]
        }
      ]
    },
    {
      "cell_type": "code",
      "source": [
        "root_path = 'drive/MyDrive/test_results'\n",
        "test_labels = np.load(root_path+'/norm1ref_test_label_unbalanced_without_aug.npy')\n",
        "pred_probs = np.load(root_path+'/norm1ref_test_pred_unbalanced_without_aug.npy')"
      ],
      "metadata": {
        "id": "yDHi3KDCdcZO"
      },
      "execution_count": 3,
      "outputs": []
    },
    {
      "cell_type": "code",
      "source": [
        "print(test_labels.shape)\n",
        "test_labels[:20]"
      ],
      "metadata": {
        "id": "yzU8dUBoeFTa",
        "outputId": "7a0948d6-9317-46f2-8a97-d347126e9e52",
        "colab": {
          "base_uri": "https://localhost:8080/"
        }
      },
      "execution_count": 4,
      "outputs": [
        {
          "output_type": "stream",
          "name": "stdout",
          "text": [
            "(797,)\n"
          ]
        },
        {
          "output_type": "execute_result",
          "data": {
            "text/plain": [
              "array([2, 3, 2, 1, 2, 1, 2, 1, 2, 1, 2, 0, 2, 2, 3, 0, 3, 2, 2, 2])"
            ]
          },
          "metadata": {},
          "execution_count": 4
        }
      ]
    },
    {
      "cell_type": "code",
      "source": [
        "print(pred_probs.shape)\n",
        "pred_probs[:20]"
      ],
      "metadata": {
        "id": "1xJ0IYIseIyP",
        "outputId": "723b9046-cbaf-4e4a-b107-1d3650a03b35",
        "colab": {
          "base_uri": "https://localhost:8080/"
        }
      },
      "execution_count": 5,
      "outputs": [
        {
          "output_type": "stream",
          "name": "stdout",
          "text": [
            "(797, 4)\n"
          ]
        },
        {
          "output_type": "execute_result",
          "data": {
            "text/plain": [
              "array([[5.7869198e-07, 3.1766781e-04, 9.9932694e-01, 3.5488626e-04],\n",
              "       [2.4069479e-07, 8.3009142e-04, 9.7402602e-01, 2.5143648e-02],\n",
              "       [2.6849264e-04, 1.3204205e-03, 9.9021167e-01, 8.1993854e-03],\n",
              "       [9.6052332e-05, 1.1042291e-01, 8.8442683e-01, 5.0541982e-03],\n",
              "       [2.1130475e-07, 4.6785031e-02, 9.5321453e-01, 2.4224613e-07],\n",
              "       [1.6403008e-02, 8.8872945e-01, 9.4417684e-02, 4.4987118e-04],\n",
              "       [4.2737634e-07, 1.0390547e-03, 9.9895048e-01, 1.0011444e-05],\n",
              "       [9.6949461e-06, 1.8276058e-01, 8.1721950e-01, 1.0228847e-05],\n",
              "       [6.4674904e-11, 8.1624773e-07, 9.9999917e-01, 2.1314448e-09],\n",
              "       [6.1709152e-08, 1.1893232e-01, 8.8078862e-01, 2.7899083e-04],\n",
              "       [5.2066925e-03, 9.3388927e-01, 6.0903136e-02, 8.5598668e-07],\n",
              "       [9.9783903e-01, 3.4663593e-05, 1.8307274e-03, 2.9563357e-04],\n",
              "       [5.0146963e-07, 3.7443042e-05, 9.9995732e-01, 4.8158327e-06],\n",
              "       [2.8235411e-02, 1.4497847e-03, 9.6972936e-01, 5.8538828e-04],\n",
              "       [8.0210511e-06, 3.8515558e-03, 9.9575126e-01, 3.8906976e-04],\n",
              "       [8.5675412e-01, 9.5967256e-02, 4.7224004e-02, 5.4663560e-05],\n",
              "       [4.4727403e-05, 3.0719682e-05, 9.9955267e-01, 3.7184911e-04],\n",
              "       [2.3231321e-09, 3.2558790e-04, 9.9967444e-01, 1.9799081e-08],\n",
              "       [4.0808936e-05, 4.4186463e-04, 9.9916291e-01, 3.5450567e-04],\n",
              "       [3.6552610e-06, 8.9147873e-03, 9.9108148e-01, 1.0122601e-09]],\n",
              "      dtype=float32)"
            ]
          },
          "metadata": {},
          "execution_count": 5
        }
      ]
    },
    {
      "cell_type": "code",
      "source": [
        "pred_labels = np.array([np.argmax(d) for d in pred_probs])\n",
        "print(pred_labels.shape)\n",
        "pred_labels[:30]"
      ],
      "metadata": {
        "id": "ADKh2C48is9H",
        "outputId": "9f052fd8-1852-465f-ad88-832be910b5c0",
        "colab": {
          "base_uri": "https://localhost:8080/"
        }
      },
      "execution_count": 19,
      "outputs": [
        {
          "output_type": "stream",
          "name": "stdout",
          "text": [
            "(797,)\n"
          ]
        },
        {
          "output_type": "execute_result",
          "data": {
            "text/plain": [
              "array([2, 2, 2, 2, 2, 1, 2, 2, 2, 2, 1, 0, 2, 2, 2, 0, 2, 2, 2, 2, 3, 2,\n",
              "       3, 2, 1, 1, 2, 2, 2, 2])"
            ]
          },
          "metadata": {},
          "execution_count": 19
        }
      ]
    },
    {
      "cell_type": "markdown",
      "source": [
        "# Classification Report"
      ],
      "metadata": {
        "id": "j9bguCFEehnx"
      }
    },
    {
      "cell_type": "code",
      "source": [
        "print(\"ROC for 4 classes:\")\n",
        "\n",
        "print(classification_report(test_labels[1:], np.argmax(pred_labels[1:,:], axis = 1)))"
      ],
      "metadata": {
        "id": "8pJCOdD4ecgf",
        "outputId": "709d24a5-dee2-4cef-d13b-d0b2f8dac301",
        "colab": {
          "base_uri": "https://localhost:8080/"
        }
      },
      "execution_count": 14,
      "outputs": [
        {
          "output_type": "stream",
          "name": "stdout",
          "text": [
            "ROC for 4 classes:\n",
            "              precision    recall  f1-score   support\n",
            "\n",
            "           0       0.71      0.58      0.64        59\n",
            "           1       0.64      0.22      0.33       188\n",
            "           2       0.61      0.85      0.71       410\n",
            "           3       0.66      0.53      0.58       139\n",
            "\n",
            "    accuracy                           0.62       796\n",
            "   macro avg       0.65      0.54      0.56       796\n",
            "weighted avg       0.63      0.62      0.59       796\n",
            "\n"
          ]
        }
      ]
    },
    {
      "cell_type": "markdown",
      "source": [
        "# ROC & AUC"
      ],
      "metadata": {
        "id": "3-aFnYNDkkc7"
      }
    },
    {
      "cell_type": "code",
      "source": [
        "## plot AUC\n",
        "fpr, tpr, _ = roc_curve(test_labels[1:], pred_labels[1:,1]   )\n",
        "\n",
        "print(np.shape(fpr))\n",
        "roc_auc= auc(fpr, tpr)\n",
        "# print(fpr)\n",
        "print('AUC' + str(roc_auc))\n",
        "\n",
        "plt.figure()\n",
        "lw = 2\n",
        "plt.plot(\n",
        "    fpr,\n",
        "    tpr,\n",
        "    color=\"darkorange\",\n",
        "    lw=lw,\n",
        "    label=\"ROC curve (area = %0.2f)\" % roc_auc,\n",
        ")\n",
        "plt.plot([0, 1], [0, 1], color=\"navy\", lw=lw, linestyle=\"--\")\n",
        "plt.xlim([0.0, 1.0])\n",
        "plt.ylim([0.0, 1.0])\n",
        "plt.xlabel(\"False Positive Rate\")\n",
        "plt.ylabel(\"True Positive Rate\")\n",
        "plt.title(\"Receiver operating characteristic \")\n",
        "plt.legend(loc=\"lower right\")\n",
        "plt.show()"
      ],
      "metadata": {
        "id": "9bpocoMjcxRx"
      },
      "execution_count": null,
      "outputs": []
    }
  ]
}