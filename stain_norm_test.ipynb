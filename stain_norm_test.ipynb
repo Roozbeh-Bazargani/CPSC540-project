{
 "cells": [
  {
   "cell_type": "code",
   "execution_count": null,
   "metadata": {},
   "outputs": [],
   "source": [
    "import os\n",
    "import torch\n",
    "import numpy as np\n",
    "import torch.nn as nn\n",
    "from utils import *\n",
    "\n",
    "\n",
    "NUMBER_OF_CLASSES = {'full': 4, 'cancer': 2, 'grade': 2, 'three_class': 3}"
   ]
  },
  {
   "cell_type": "code",
   "execution_count": null,
   "metadata": {},
   "outputs": [],
   "source": [
    "# test the color normalization methods\n",
    "van_path = '../data/VPC-10X'\n",
    "dataloader =get_dataloader(van_path, slides=[1], batch_size=2, classification_type='full', augment=False, shuffle=False, num_workers=0, stain_augment=True)\n",
    "print(len(dataloader))"
   ]
  },
  {
   "cell_type": "code",
   "execution_count": null,
   "metadata": {},
   "outputs": [],
   "source": [
    "for batch in dataloader:\n",
    "    output = batch['image'][1]\n",
    "#     print(torch.max(output))\n",
    "#     print(output.shape)\n",
    "#     image = output.cpu().permute(1, 2, 0) * 255\n",
    "#     image = image.numpy()\n",
    "#     image = np.array(image, dtype=np.int)\n",
    "#     plt.imshow(image)\n",
    "#     break"
   ]
  },
  {
   "cell_type": "code",
   "execution_count": null,
   "metadata": {},
   "outputs": [],
   "source": [
    "# test the color normalization methods\n",
    "colorado_path = '../data/Colorado-10X'\n",
    "dataloader =get_dataloader(colorado_path, slides=[0, 1, 2, 3], batch_size=2, classification_type='full', augment=False, shuffle=False, num_workers=0, stain_augment=True)\n",
    "print(len(dataloader))"
   ]
  },
  {
   "cell_type": "code",
   "execution_count": null,
   "metadata": {},
   "outputs": [],
   "source": [
    "for batch in dataloader:\n",
    "    output = batch['image'][1]\n",
    "#     print(torch.max(output))\n",
    "#     print(output.shape)\n",
    "#     image = output.cpu().permute(1, 2, 0) * 255\n",
    "#     image = image.numpy()\n",
    "#     image = np.array(image, dtype=np.int)\n",
    "#     plt.imshow(image)\n",
    "#     break"
   ]
  }
 ],
 "metadata": {
  "language_info": {
   "name": "python"
  },
  "orig_nbformat": 4
 },
 "nbformat": 4,
 "nbformat_minor": 2
}
